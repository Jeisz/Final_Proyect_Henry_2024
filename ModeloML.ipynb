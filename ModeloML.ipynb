{
 "cells": [
  {
   "cell_type": "code",
   "execution_count": 41,
   "metadata": {},
   "outputs": [],
   "source": [
    "import pandas as pd\n",
    "import numpy as np\n",
    "\n",
    "import scipy as sp\n",
    "from sklearn.metrics.pairwise import cosine_similarity\n",
    "\n",
    "\n",
    "import pyarrow as pa\n",
    "import pyarrow.parquet as pq\n",
    "from sklearn.metrics.pairwise import cosine_similarity\n",
    "from sklearn.feature_extraction.text import TfidfVectorizer\n",
    "from scipy.sparse import csr_matrix"
   ]
  },
  {
   "cell_type": "code",
   "execution_count": 7,
   "metadata": {},
   "outputs": [],
   "source": [
    "df_optimizado = pd.read_parquet('..//Datasets//df_tratamientoML.parquet')"
   ]
  },
  {
   "cell_type": "code",
   "execution_count": 8,
   "metadata": {},
   "outputs": [
    {
     "name": "stdout",
     "output_type": "stream",
     "text": [
      "Valores únicos en 'user_id':\n",
      "['76561197970982479' 'js41637' 'evcentric' ... '76561198323066619'\n",
      " '76561198326700687' '76561198329548331']\n",
      "\n",
      "Valores únicos en 'item_name':\n",
      "['Counter-Strike' 'Team Fortress Classic' 'Day of Defeat' ... 'ChaosTower'\n",
      " 'Aveyond 4: Shadow Of The Mist' 'Arachnophobia']\n"
     ]
    }
   ],
   "source": [
    "# Obtener los valores únicos en la columna 'user_id'\n",
    "unique_users = df_optimizado['user_id'].unique()\n",
    "\n",
    "# Obtener los valores únicos en la columna 'item_name'\n",
    "unique_items = df_optimizado['item_name'].unique()\n",
    "\n",
    "print(\"Valores únicos en 'user_id':\")\n",
    "print(unique_users)\n",
    "\n",
    "print(\"\\nValores únicos en 'item_name':\")\n",
    "print(unique_items)"
   ]
  },
  {
   "cell_type": "code",
   "execution_count": 11,
   "metadata": {},
   "outputs": [
    {
     "name": "stdout",
     "output_type": "stream",
     "text": [
      "  user_id                  item_name    rating\n",
      "0   user1             Counter-Strike  0.100000\n",
      "1   user1      Team Fortress Classic  0.000000\n",
      "2   user1              Day of Defeat  0.116667\n",
      "3   user1         Deathmatch Classic  0.000000\n",
      "4   user1  Half-Life: Opposing Force  0.000000\n"
     ]
    }
   ],
   "source": [
    "mapeo_user_id = {}\n",
    "contador = 1\n",
    "\n",
    "for user_id in unique_users:\n",
    "    mapeo_user_id[user_id] = f'user{contador}'\n",
    "    contador += 1\n",
    "\n",
    "# Reemplazar los valores numéricos en 'user_id' con los identificadores de usuario\n",
    "df_optimizado['user_id'] = df_optimizado['user_id'].map(mapeo_user_id)\n",
    "\n",
    "# Verificar el DataFrame actualizado\n",
    "print(df_optimizado.head())"
   ]
  },
  {
   "cell_type": "code",
   "execution_count": 13,
   "metadata": {},
   "outputs": [
    {
     "name": "stdout",
     "output_type": "stream",
     "text": [
      "     user_id     rating\n",
      "0      user1  12.037004\n",
      "1     user10  43.925797\n",
      "2    user100  52.277632\n",
      "3   user1000  46.967279\n",
      "4  user10000   4.915116\n"
     ]
    }
   ],
   "source": [
    "# Agrupar por 'user_id' y calcular el promedio del rating\n",
    "df_usuario_promedio = df_optimizado.groupby('user_id')['rating'].mean().reset_index()\n",
    "\n",
    "# Verificar el nuevo DataFrame con los promedios de rating por usuario\n",
    "print(df_usuario_promedio.head())"
   ]
  },
  {
   "cell_type": "code",
   "execution_count": 15,
   "metadata": {},
   "outputs": [
    {
     "name": "stdout",
     "output_type": "stream",
     "text": [
      "Valores únicos en 'user_id':\n",
      "['user1' 'user2' 'user3' ... 'user70910' 'user70911' 'user70912']\n",
      "\n",
      "Valores únicos en 'item_name':\n",
      "['Counter-Strike' 'Team Fortress Classic' 'Day of Defeat' ... 'ChaosTower'\n",
      " 'Aveyond 4: Shadow Of The Mist' 'Arachnophobia']\n"
     ]
    }
   ],
   "source": [
    "# Obtener los valores únicos en la columna 'user_id'\n",
    "unique_users = df_optimizado['user_id'].unique()\n",
    "\n",
    "# Obtener los valores únicos en la columna 'item_name'\n",
    "unique_items = df_optimizado['item_name'].unique()\n",
    "\n",
    "print(\"Valores únicos en 'user_id':\")\n",
    "print(unique_users)\n",
    "\n",
    "print(\"\\nValores únicos en 'item_name':\")\n",
    "print(unique_items)"
   ]
  },
  {
   "cell_type": "code",
   "execution_count": 16,
   "metadata": {},
   "outputs": [
    {
     "name": "stdout",
     "output_type": "stream",
     "text": [
      "   user_id                  item_name    rating\n",
      "0        1             Counter-Strike  0.100000\n",
      "1        1      Team Fortress Classic  0.000000\n",
      "2        1              Day of Defeat  0.116667\n",
      "3        1         Deathmatch Classic  0.000000\n",
      "4        1  Half-Life: Opposing Force  0.000000\n"
     ]
    }
   ],
   "source": [
    "# Crear un diccionario de mapeo para asignar números a los valores únicos en 'user_id'\n",
    "mapeo_user_id = {}\n",
    "contador = 1\n",
    "\n",
    "for user_id in unique_users:\n",
    "    mapeo_user_id[user_id] = contador\n",
    "    contador += 1\n",
    "\n",
    "# Reemplazar los valores en 'user_id' con los números correspondientes\n",
    "df_optimizado['user_id'] = df_optimizado['user_id'].map(mapeo_user_id)\n",
    "\n",
    "# Verificar el DataFrame actualizado\n",
    "print(df_optimizado.head())"
   ]
  },
  {
   "cell_type": "code",
   "execution_count": 38,
   "metadata": {},
   "outputs": [
    {
     "name": "stdout",
     "output_type": "stream",
     "text": [
      "<class 'pandas.core.frame.DataFrame'>\n",
      "Index: 10947 entries, 0 to 5086621\n",
      "Data columns (total 3 columns):\n",
      " #   Column     Non-Null Count  Dtype  \n",
      "---  ------     --------------  -----  \n",
      " 0   user_id    10947 non-null  int64  \n",
      " 1   item_name  10947 non-null  object \n",
      " 2   rating     10947 non-null  float64\n",
      "dtypes: float64(1), int64(1), object(1)\n",
      "memory usage: 600.1+ KB\n"
     ]
    }
   ],
   "source": [
    "df_optimizado.info()"
   ]
  },
  {
   "cell_type": "code",
   "execution_count": 39,
   "metadata": {},
   "outputs": [
    {
     "name": "stdout",
     "output_type": "stream",
     "text": [
      "item_name   神明的一天世界(god's one day world)  \\\n",
      "user_id                                    \n",
      "1                                    NaN   \n",
      "2                                    NaN   \n",
      "3                                    NaN   \n",
      "4                                    NaN   \n",
      "5                                    NaN   \n",
      "...                                  ...   \n",
      "60636                                NaN   \n",
      "68529                                NaN   \n",
      "69212                                NaN   \n",
      "69595                                NaN   \n",
      "70522                                NaN   \n",
      "\n",
      "item_name  ! that bastard is trying to steal our gold !  \\\n",
      "user_id                                                   \n",
      "1                                                   NaN   \n",
      "2                                                   NaN   \n",
      "3                                                   NaN   \n",
      "4                                                   NaN   \n",
      "5                                                   NaN   \n",
      "...                                                 ...   \n",
      "60636                                               NaN   \n",
      "68529                                               NaN   \n",
      "69212                                               NaN   \n",
      "69595                                               NaN   \n",
      "70522                                               NaN   \n",
      "\n",
      "item_name  \"glow ball\" - the billiard puzzle game  #killallzombies  \\\n",
      "user_id                                                              \n",
      "1                                             NaN              NaN   \n",
      "2                                             NaN              NaN   \n",
      "3                                             NaN              NaN   \n",
      "4                                             NaN              NaN   \n",
      "5                                             NaN              NaN   \n",
      "...                                           ...              ...   \n",
      "60636                                         NaN              NaN   \n",
      "68529                                         NaN              NaN   \n",
      "69212                                         NaN              NaN   \n",
      "69595                                         NaN              NaN   \n",
      "70522                                         NaN              NaN   \n",
      "\n",
      "item_name  #selfietennis  #skijump  $1 ride  'n verlore verstand  .exe  \\\n",
      "user_id                                                                  \n",
      "1                    NaN       NaN      NaN                  NaN   NaN   \n",
      "2                    NaN       NaN      NaN                  NaN   NaN   \n",
      "3                    NaN       NaN      NaN                  NaN   NaN   \n",
      "4                    NaN       NaN      NaN                  NaN   NaN   \n",
      "5                    NaN       NaN      NaN                  NaN   NaN   \n",
      "...                  ...       ...      ...                  ...   ...   \n",
      "60636                NaN       NaN      NaN                  NaN   NaN   \n",
      "68529                NaN       NaN      NaN                  NaN   NaN   \n",
      "69212                NaN       NaN      NaN                  NaN   NaN   \n",
      "69595                NaN       NaN      NaN                  NaN   NaN   \n",
      "70522                NaN       NaN      NaN                  NaN   NaN   \n",
      "\n",
      "item_name  001 game creator  ...  zuma's revenge  zuma's revenge! - adventure  \\\n",
      "user_id                      ...                                                \n",
      "1                       NaN  ...             NaN                          NaN   \n",
      "2                       NaN  ...             0.0                          NaN   \n",
      "3                       NaN  ...             NaN                          NaN   \n",
      "4                       NaN  ...             NaN                          NaN   \n",
      "5                       NaN  ...             NaN                          NaN   \n",
      "...                     ...  ...             ...                          ...   \n",
      "60636                   NaN  ...             NaN                          NaN   \n",
      "68529                   NaN  ...             NaN                          NaN   \n",
      "69212                   NaN  ...             NaN                          NaN   \n",
      "69595                   NaN  ...             NaN                          NaN   \n",
      "70522                   NaN  ...             NaN                          NaN   \n",
      "\n",
      "item_name  zxill: a legend of time  астролорды: оружие пришельцев  \\\n",
      "user_id                                                             \n",
      "1                              NaN                            NaN   \n",
      "2                              NaN                            NaN   \n",
      "3                              NaN                            NaN   \n",
      "4                              NaN                            NaN   \n",
      "5                              NaN                            NaN   \n",
      "...                            ...                            ...   \n",
      "60636                          NaN                            NaN   \n",
      "68529                          NaN                            NaN   \n",
      "69212                          NaN                            NaN   \n",
      "69595                          NaN                            NaN   \n",
      "70522                          NaN                            NaN   \n",
      "\n",
      "item_name  безумный макс: дорога ярости  丛林守望者（ranger of the jungle）  \\\n",
      "user_id                                                                \n",
      "1                                   NaN                          NaN   \n",
      "2                                   NaN                          NaN   \n",
      "3                                   NaN                          NaN   \n",
      "4                                   NaN                          NaN   \n",
      "5                                   NaN                          NaN   \n",
      "...                                 ...                          ...   \n",
      "60636                               NaN                          NaN   \n",
      "68529                               NaN                          NaN   \n",
      "69212                               NaN                          NaN   \n",
      "69595                               NaN                          NaN   \n",
      "70522                               NaN                          NaN   \n",
      "\n",
      "item_name  侠客风云传(tale of wuxia)  大海战 navy field iv  神楽道中記(kaguradouchuuki)  \\\n",
      "user_id                                                                      \n",
      "1                           NaN                NaN                     NaN   \n",
      "2                           NaN                NaN                     NaN   \n",
      "3                           NaN                NaN                     NaN   \n",
      "4                           NaN                NaN                     NaN   \n",
      "5                           NaN                NaN                     NaN   \n",
      "...                         ...                ...                     ...   \n",
      "60636                       NaN                NaN                     NaN   \n",
      "68529                       NaN                NaN                     NaN   \n",
      "69212                       NaN                NaN                     NaN   \n",
      "69595                       NaN                NaN                     NaN   \n",
      "70522                       NaN                NaN                     NaN   \n",
      "\n",
      "item_name  軒轅劍外傳穹之扉(the gate of firmament)  \n",
      "user_id                                     \n",
      "1                                      NaN  \n",
      "2                                      NaN  \n",
      "3                                      NaN  \n",
      "4                                      NaN  \n",
      "5                                      NaN  \n",
      "...                                    ...  \n",
      "60636                                  NaN  \n",
      "68529                                  NaN  \n",
      "69212                                  NaN  \n",
      "69595                                  NaN  \n",
      "70522                                  NaN  \n",
      "\n",
      "[1495 rows x 10944 columns]\n"
     ]
    }
   ],
   "source": [
    "# Pivotar el DataFrame\n",
    "user_item_matrix = df_optimizado.pivot(index='user_id', columns='item_name', values='rating')\n",
    "\n",
    "# Mostrar el nuevo DataFrame\n",
    "print(user_item_matrix)\n"
   ]
  },
  {
   "cell_type": "code",
   "execution_count": 40,
   "metadata": {},
   "outputs": [
    {
     "name": "stdout",
     "output_type": "stream",
     "text": [
      "item_name   神明的一天世界(god's one day world)  \\\n",
      "user_id                                    \n",
      "1                                    NaN   \n",
      "2                                    NaN   \n",
      "3                                    NaN   \n",
      "4                                    NaN   \n",
      "5                                    NaN   \n",
      "...                                  ...   \n",
      "34650                                NaN   \n",
      "37231                                NaN   \n",
      "38490                                NaN   \n",
      "41493                                NaN   \n",
      "42956                                NaN   \n",
      "\n",
      "item_name  ! that bastard is trying to steal our gold !  \\\n",
      "user_id                                                   \n",
      "1                                                   NaN   \n",
      "2                                                   NaN   \n",
      "3                                                   NaN   \n",
      "4                                                   NaN   \n",
      "5                                                   NaN   \n",
      "...                                                 ...   \n",
      "34650                                               NaN   \n",
      "37231                                               NaN   \n",
      "38490                                               NaN   \n",
      "41493                                               NaN   \n",
      "42956                                               NaN   \n",
      "\n",
      "item_name  \"glow ball\" - the billiard puzzle game  #killallzombies  \\\n",
      "user_id                                                              \n",
      "1                                             NaN              NaN   \n",
      "2                                             NaN              NaN   \n",
      "3                                             NaN              NaN   \n",
      "4                                             NaN              NaN   \n",
      "5                                             NaN              NaN   \n",
      "...                                           ...              ...   \n",
      "34650                                         NaN              NaN   \n",
      "37231                                         NaN              NaN   \n",
      "38490                                         NaN              NaN   \n",
      "41493                                         NaN              NaN   \n",
      "42956                                         NaN              NaN   \n",
      "\n",
      "item_name  #selfietennis  #skijump  $1 ride  'n verlore verstand  .exe  \\\n",
      "user_id                                                                  \n",
      "1                    NaN       NaN      NaN                  NaN   NaN   \n",
      "2                    NaN       NaN      NaN                  NaN   NaN   \n",
      "3                    NaN       NaN      NaN                  NaN   NaN   \n",
      "4                    NaN       NaN      NaN                  NaN   NaN   \n",
      "5                    NaN       NaN      NaN                  NaN   NaN   \n",
      "...                  ...       ...      ...                  ...   ...   \n",
      "34650                NaN       NaN      NaN                  NaN   NaN   \n",
      "37231                NaN       NaN      NaN                  NaN   NaN   \n",
      "38490                NaN       NaN      NaN                  NaN   NaN   \n",
      "41493                NaN       NaN      NaN                  NaN   NaN   \n",
      "42956                NaN       NaN      NaN                  NaN   NaN   \n",
      "\n",
      "item_name  001 game creator  ...  zuma's revenge  zuma's revenge! - adventure  \\\n",
      "user_id                      ...                                                \n",
      "1                       NaN  ...             NaN                          NaN   \n",
      "2                       NaN  ...       -0.030051                          NaN   \n",
      "3                       NaN  ...             NaN                          NaN   \n",
      "4                       NaN  ...             NaN                          NaN   \n",
      "5                       NaN  ...             NaN                          NaN   \n",
      "...                     ...  ...             ...                          ...   \n",
      "34650                   NaN  ...             NaN                          NaN   \n",
      "37231                   NaN  ...             NaN                          NaN   \n",
      "38490                   NaN  ...             NaN                          NaN   \n",
      "41493                   NaN  ...             NaN                          NaN   \n",
      "42956                   NaN  ...             NaN                          NaN   \n",
      "\n",
      "item_name  zxill: a legend of time  астролорды: оружие пришельцев  \\\n",
      "user_id                                                             \n",
      "1                              NaN                            NaN   \n",
      "2                              NaN                            NaN   \n",
      "3                              NaN                            NaN   \n",
      "4                              NaN                            NaN   \n",
      "5                              NaN                            NaN   \n",
      "...                            ...                            ...   \n",
      "34650                          NaN                            NaN   \n",
      "37231                          NaN                            NaN   \n",
      "38490                          NaN                            NaN   \n",
      "41493                          NaN                            NaN   \n",
      "42956                          NaN                            NaN   \n",
      "\n",
      "item_name  безумный макс: дорога ярости  丛林守望者（ranger of the jungle）  \\\n",
      "user_id                                                                \n",
      "1                                   NaN                          NaN   \n",
      "2                                   NaN                          NaN   \n",
      "3                                   NaN                          NaN   \n",
      "4                                   NaN                          NaN   \n",
      "5                                   NaN                          NaN   \n",
      "...                                 ...                          ...   \n",
      "34650                               NaN                          NaN   \n",
      "37231                               NaN                          NaN   \n",
      "38490                               NaN                          NaN   \n",
      "41493                               NaN                          NaN   \n",
      "42956                               NaN                          NaN   \n",
      "\n",
      "item_name  侠客风云传(tale of wuxia)  大海战 navy field iv  神楽道中記(kaguradouchuuki)  \\\n",
      "user_id                                                                      \n",
      "1                           NaN                NaN                     NaN   \n",
      "2                           NaN                NaN                     NaN   \n",
      "3                           NaN                NaN                     NaN   \n",
      "4                           NaN                NaN                     NaN   \n",
      "5                           NaN                NaN                     NaN   \n",
      "...                         ...                ...                     ...   \n",
      "34650                       NaN                NaN                     NaN   \n",
      "37231                       NaN                NaN                     NaN   \n",
      "38490                       NaN                NaN                     NaN   \n",
      "41493                       NaN                NaN                     NaN   \n",
      "42956                       NaN                NaN                     NaN   \n",
      "\n",
      "item_name  軒轅劍外傳穹之扉(the gate of firmament)  \n",
      "user_id                                     \n",
      "1                                      NaN  \n",
      "2                                      NaN  \n",
      "3                                      NaN  \n",
      "4                                      NaN  \n",
      "5                                      NaN  \n",
      "...                                    ...  \n",
      "34650                                  NaN  \n",
      "37231                                  NaN  \n",
      "38490                                  NaN  \n",
      "41493                                  NaN  \n",
      "42956                                  NaN  \n",
      "\n",
      "[558 rows x 10944 columns]\n"
     ]
    }
   ],
   "source": [
    "\n",
    "# Calcular la media de las calificaciones por usuario\n",
    "user_means = user_item_matrix.mean(axis=1)\n",
    "\n",
    "# Calcular la diferencia entre el valor máximo y mínimo de las calificaciones por usuario\n",
    "user_max = user_item_matrix.max(axis=1)\n",
    "user_min = user_item_matrix.min(axis=1)\n",
    "user_diff = user_max - user_min\n",
    "\n",
    "# Restar la media y dividir por la diferencia\n",
    "normalized_user_item_matrix = (user_item_matrix.sub(user_means, axis=0)).div(user_diff, axis=0)\n",
    "\n",
    "# Eliminar usuarios con una sola calificación o calificaciones idénticas\n",
    "normalized_user_item_matrix.dropna(axis=0, thresh=2, inplace=True)\n",
    "\n",
    "# Mostrar el nuevo DataFrame normalizado\n",
    "print(normalized_user_item_matrix)"
   ]
  },
  {
   "cell_type": "code",
   "execution_count": 42,
   "metadata": {},
   "outputs": [],
   "source": [
    "# Supongamos que tienes la matriz normalizada 'normalized_user_item_matrix'\n",
    "\n",
    "# Convertir a matriz dispersa (sparse matrix)\n",
    "sparse_matrix = csr_matrix(normalized_user_item_matrix.values)\n",
    "\n",
    "# Ahora 'sparse_matrix' contiene la matriz dispersa\n",
    "\n"
   ]
  },
  {
   "cell_type": "code",
   "execution_count": 45,
   "metadata": {},
   "outputs": [
    {
     "ename": "NameError",
     "evalue": "name 'piv' is not defined",
     "output_type": "error",
     "traceback": [
      "\u001b[1;31m---------------------------------------------------------------------------\u001b[0m",
      "\u001b[1;31mNameError\u001b[0m                                 Traceback (most recent call last)",
      "Cell \u001b[1;32mIn[45], line 1\u001b[0m\n\u001b[1;32m----> 1\u001b[0m piv_norm \u001b[38;5;241m=\u001b[39m \u001b[43mpiv\u001b[49m\u001b[38;5;241m.\u001b[39mapply(\u001b[38;5;28;01mlambda\u001b[39;00m x: (x\u001b[38;5;241m-\u001b[39mnp\u001b[38;5;241m.\u001b[39mmean(x))\u001b[38;5;241m/\u001b[39m(np\u001b[38;5;241m.\u001b[39mmax(x)\u001b[38;5;241m-\u001b[39mnp\u001b[38;5;241m.\u001b[39mmin(x)), axis\u001b[38;5;241m=\u001b[39m\u001b[38;5;241m1\u001b[39m)\n",
      "\u001b[1;31mNameError\u001b[0m: name 'piv' is not defined"
     ]
    }
   ],
   "source": [
    "piv_norm = piv.apply(lambda x: (x-np.mean(x))/(np.max(x)-np.min(x)), axis=1)"
   ]
  },
  {
   "cell_type": "code",
   "execution_count": 44,
   "metadata": {},
   "outputs": [
    {
     "ename": "ValueError",
     "evalue": "Input contains NaN.",
     "output_type": "error",
     "traceback": [
      "\u001b[1;31m---------------------------------------------------------------------------\u001b[0m",
      "\u001b[1;31mValueError\u001b[0m                                Traceback (most recent call last)",
      "Cell \u001b[1;32mIn[44], line 5\u001b[0m\n\u001b[0;32m      2\u001b[0m piv_sparse \u001b[38;5;241m=\u001b[39m csr_matrix(user_item_matrix\u001b[38;5;241m.\u001b[39mvalues)\n\u001b[0;32m      4\u001b[0m \u001b[38;5;66;03m# Calcular la similitud entre juegos (item_similarity)\u001b[39;00m\n\u001b[1;32m----> 5\u001b[0m item_similarity \u001b[38;5;241m=\u001b[39m \u001b[43mcosine_similarity\u001b[49m\u001b[43m(\u001b[49m\u001b[43mpiv_sparse\u001b[49m\u001b[43m)\u001b[49m\n\u001b[0;32m      7\u001b[0m \u001b[38;5;66;03m# Calcular la similitud entre usuarios (user_similarity)\u001b[39;00m\n\u001b[0;32m      8\u001b[0m user_similarity \u001b[38;5;241m=\u001b[39m cosine_similarity(piv_sparse\u001b[38;5;241m.\u001b[39mT)\n",
      "File \u001b[1;32m~\\AppData\\Local\\Packages\\PythonSoftwareFoundation.Python.3.10_qbz5n2kfra8p0\\LocalCache\\local-packages\\Python310\\site-packages\\sklearn\\utils\\_param_validation.py:213\u001b[0m, in \u001b[0;36mvalidate_params.<locals>.decorator.<locals>.wrapper\u001b[1;34m(*args, **kwargs)\u001b[0m\n\u001b[0;32m    207\u001b[0m \u001b[38;5;28;01mtry\u001b[39;00m:\n\u001b[0;32m    208\u001b[0m     \u001b[38;5;28;01mwith\u001b[39;00m config_context(\n\u001b[0;32m    209\u001b[0m         skip_parameter_validation\u001b[38;5;241m=\u001b[39m(\n\u001b[0;32m    210\u001b[0m             prefer_skip_nested_validation \u001b[38;5;129;01mor\u001b[39;00m global_skip_validation\n\u001b[0;32m    211\u001b[0m         )\n\u001b[0;32m    212\u001b[0m     ):\n\u001b[1;32m--> 213\u001b[0m         \u001b[38;5;28;01mreturn\u001b[39;00m func(\u001b[38;5;241m*\u001b[39margs, \u001b[38;5;241m*\u001b[39m\u001b[38;5;241m*\u001b[39mkwargs)\n\u001b[0;32m    214\u001b[0m \u001b[38;5;28;01mexcept\u001b[39;00m InvalidParameterError \u001b[38;5;28;01mas\u001b[39;00m e:\n\u001b[0;32m    215\u001b[0m     \u001b[38;5;66;03m# When the function is just a wrapper around an estimator, we allow\u001b[39;00m\n\u001b[0;32m    216\u001b[0m     \u001b[38;5;66;03m# the function to delegate validation to the estimator, but we replace\u001b[39;00m\n\u001b[0;32m    217\u001b[0m     \u001b[38;5;66;03m# the name of the estimator by the name of the function in the error\u001b[39;00m\n\u001b[0;32m    218\u001b[0m     \u001b[38;5;66;03m# message to avoid confusion.\u001b[39;00m\n\u001b[0;32m    219\u001b[0m     msg \u001b[38;5;241m=\u001b[39m re\u001b[38;5;241m.\u001b[39msub(\n\u001b[0;32m    220\u001b[0m         \u001b[38;5;124mr\u001b[39m\u001b[38;5;124m\"\u001b[39m\u001b[38;5;124mparameter of \u001b[39m\u001b[38;5;124m\\\u001b[39m\u001b[38;5;124mw+ must be\u001b[39m\u001b[38;5;124m\"\u001b[39m,\n\u001b[0;32m    221\u001b[0m         \u001b[38;5;124mf\u001b[39m\u001b[38;5;124m\"\u001b[39m\u001b[38;5;124mparameter of \u001b[39m\u001b[38;5;132;01m{\u001b[39;00mfunc\u001b[38;5;241m.\u001b[39m\u001b[38;5;18m__qualname__\u001b[39m\u001b[38;5;132;01m}\u001b[39;00m\u001b[38;5;124m must be\u001b[39m\u001b[38;5;124m\"\u001b[39m,\n\u001b[0;32m    222\u001b[0m         \u001b[38;5;28mstr\u001b[39m(e),\n\u001b[0;32m    223\u001b[0m     )\n",
      "File \u001b[1;32m~\\AppData\\Local\\Packages\\PythonSoftwareFoundation.Python.3.10_qbz5n2kfra8p0\\LocalCache\\local-packages\\Python310\\site-packages\\sklearn\\metrics\\pairwise.py:1657\u001b[0m, in \u001b[0;36mcosine_similarity\u001b[1;34m(X, Y, dense_output)\u001b[0m\n\u001b[0;32m   1613\u001b[0m \u001b[38;5;250m\u001b[39m\u001b[38;5;124;03m\"\"\"Compute cosine similarity between samples in X and Y.\u001b[39;00m\n\u001b[0;32m   1614\u001b[0m \n\u001b[0;32m   1615\u001b[0m \u001b[38;5;124;03mCosine similarity, or the cosine kernel, computes similarity as the\u001b[39;00m\n\u001b[1;32m   (...)\u001b[0m\n\u001b[0;32m   1653\u001b[0m \u001b[38;5;124;03m       [0.57..., 0.81...]])\u001b[39;00m\n\u001b[0;32m   1654\u001b[0m \u001b[38;5;124;03m\"\"\"\u001b[39;00m\n\u001b[0;32m   1655\u001b[0m \u001b[38;5;66;03m# to avoid recursive import\u001b[39;00m\n\u001b[1;32m-> 1657\u001b[0m X, Y \u001b[38;5;241m=\u001b[39m \u001b[43mcheck_pairwise_arrays\u001b[49m\u001b[43m(\u001b[49m\u001b[43mX\u001b[49m\u001b[43m,\u001b[49m\u001b[43m \u001b[49m\u001b[43mY\u001b[49m\u001b[43m)\u001b[49m\n\u001b[0;32m   1659\u001b[0m X_normalized \u001b[38;5;241m=\u001b[39m normalize(X, copy\u001b[38;5;241m=\u001b[39m\u001b[38;5;28;01mTrue\u001b[39;00m)\n\u001b[0;32m   1660\u001b[0m \u001b[38;5;28;01mif\u001b[39;00m X \u001b[38;5;129;01mis\u001b[39;00m Y:\n",
      "File \u001b[1;32m~\\AppData\\Local\\Packages\\PythonSoftwareFoundation.Python.3.10_qbz5n2kfra8p0\\LocalCache\\local-packages\\Python310\\site-packages\\sklearn\\metrics\\pairwise.py:155\u001b[0m, in \u001b[0;36mcheck_pairwise_arrays\u001b[1;34m(X, Y, precomputed, dtype, accept_sparse, force_all_finite, copy)\u001b[0m\n\u001b[0;32m    152\u001b[0m     dtype \u001b[38;5;241m=\u001b[39m dtype_float\n\u001b[0;32m    154\u001b[0m \u001b[38;5;28;01mif\u001b[39;00m Y \u001b[38;5;129;01mis\u001b[39;00m X \u001b[38;5;129;01mor\u001b[39;00m Y \u001b[38;5;129;01mis\u001b[39;00m \u001b[38;5;28;01mNone\u001b[39;00m:\n\u001b[1;32m--> 155\u001b[0m     X \u001b[38;5;241m=\u001b[39m Y \u001b[38;5;241m=\u001b[39m \u001b[43mcheck_array\u001b[49m\u001b[43m(\u001b[49m\n\u001b[0;32m    156\u001b[0m \u001b[43m        \u001b[49m\u001b[43mX\u001b[49m\u001b[43m,\u001b[49m\n\u001b[0;32m    157\u001b[0m \u001b[43m        \u001b[49m\u001b[43maccept_sparse\u001b[49m\u001b[38;5;241;43m=\u001b[39;49m\u001b[43maccept_sparse\u001b[49m\u001b[43m,\u001b[49m\n\u001b[0;32m    158\u001b[0m \u001b[43m        \u001b[49m\u001b[43mdtype\u001b[49m\u001b[38;5;241;43m=\u001b[39;49m\u001b[43mdtype\u001b[49m\u001b[43m,\u001b[49m\n\u001b[0;32m    159\u001b[0m \u001b[43m        \u001b[49m\u001b[43mcopy\u001b[49m\u001b[38;5;241;43m=\u001b[39;49m\u001b[43mcopy\u001b[49m\u001b[43m,\u001b[49m\n\u001b[0;32m    160\u001b[0m \u001b[43m        \u001b[49m\u001b[43mforce_all_finite\u001b[49m\u001b[38;5;241;43m=\u001b[39;49m\u001b[43mforce_all_finite\u001b[49m\u001b[43m,\u001b[49m\n\u001b[0;32m    161\u001b[0m \u001b[43m        \u001b[49m\u001b[43mestimator\u001b[49m\u001b[38;5;241;43m=\u001b[39;49m\u001b[43mestimator\u001b[49m\u001b[43m,\u001b[49m\n\u001b[0;32m    162\u001b[0m \u001b[43m    \u001b[49m\u001b[43m)\u001b[49m\n\u001b[0;32m    163\u001b[0m \u001b[38;5;28;01melse\u001b[39;00m:\n\u001b[0;32m    164\u001b[0m     X \u001b[38;5;241m=\u001b[39m check_array(\n\u001b[0;32m    165\u001b[0m         X,\n\u001b[0;32m    166\u001b[0m         accept_sparse\u001b[38;5;241m=\u001b[39maccept_sparse,\n\u001b[1;32m   (...)\u001b[0m\n\u001b[0;32m    170\u001b[0m         estimator\u001b[38;5;241m=\u001b[39mestimator,\n\u001b[0;32m    171\u001b[0m     )\n",
      "File \u001b[1;32m~\\AppData\\Local\\Packages\\PythonSoftwareFoundation.Python.3.10_qbz5n2kfra8p0\\LocalCache\\local-packages\\Python310\\site-packages\\sklearn\\utils\\validation.py:917\u001b[0m, in \u001b[0;36mcheck_array\u001b[1;34m(array, accept_sparse, accept_large_sparse, dtype, order, copy, force_all_finite, ensure_2d, allow_nd, ensure_min_samples, ensure_min_features, estimator, input_name)\u001b[0m\n\u001b[0;32m    915\u001b[0m \u001b[38;5;28;01mif\u001b[39;00m sp\u001b[38;5;241m.\u001b[39missparse(array):\n\u001b[0;32m    916\u001b[0m     _ensure_no_complex_data(array)\n\u001b[1;32m--> 917\u001b[0m     array \u001b[38;5;241m=\u001b[39m \u001b[43m_ensure_sparse_format\u001b[49m\u001b[43m(\u001b[49m\n\u001b[0;32m    918\u001b[0m \u001b[43m        \u001b[49m\u001b[43marray\u001b[49m\u001b[43m,\u001b[49m\n\u001b[0;32m    919\u001b[0m \u001b[43m        \u001b[49m\u001b[43maccept_sparse\u001b[49m\u001b[38;5;241;43m=\u001b[39;49m\u001b[43maccept_sparse\u001b[49m\u001b[43m,\u001b[49m\n\u001b[0;32m    920\u001b[0m \u001b[43m        \u001b[49m\u001b[43mdtype\u001b[49m\u001b[38;5;241;43m=\u001b[39;49m\u001b[43mdtype\u001b[49m\u001b[43m,\u001b[49m\n\u001b[0;32m    921\u001b[0m \u001b[43m        \u001b[49m\u001b[43mcopy\u001b[49m\u001b[38;5;241;43m=\u001b[39;49m\u001b[43mcopy\u001b[49m\u001b[43m,\u001b[49m\n\u001b[0;32m    922\u001b[0m \u001b[43m        \u001b[49m\u001b[43mforce_all_finite\u001b[49m\u001b[38;5;241;43m=\u001b[39;49m\u001b[43mforce_all_finite\u001b[49m\u001b[43m,\u001b[49m\n\u001b[0;32m    923\u001b[0m \u001b[43m        \u001b[49m\u001b[43maccept_large_sparse\u001b[49m\u001b[38;5;241;43m=\u001b[39;49m\u001b[43maccept_large_sparse\u001b[49m\u001b[43m,\u001b[49m\n\u001b[0;32m    924\u001b[0m \u001b[43m        \u001b[49m\u001b[43mestimator_name\u001b[49m\u001b[38;5;241;43m=\u001b[39;49m\u001b[43mestimator_name\u001b[49m\u001b[43m,\u001b[49m\n\u001b[0;32m    925\u001b[0m \u001b[43m        \u001b[49m\u001b[43minput_name\u001b[49m\u001b[38;5;241;43m=\u001b[39;49m\u001b[43minput_name\u001b[49m\u001b[43m,\u001b[49m\n\u001b[0;32m    926\u001b[0m \u001b[43m    \u001b[49m\u001b[43m)\u001b[49m\n\u001b[0;32m    927\u001b[0m \u001b[38;5;28;01melse\u001b[39;00m:\n\u001b[0;32m    928\u001b[0m     \u001b[38;5;66;03m# If np.array(..) gives ComplexWarning, then we convert the warning\u001b[39;00m\n\u001b[0;32m    929\u001b[0m     \u001b[38;5;66;03m# to an error. This is needed because specifying a non complex\u001b[39;00m\n\u001b[0;32m    930\u001b[0m     \u001b[38;5;66;03m# dtype to the function converts complex to real dtype,\u001b[39;00m\n\u001b[0;32m    931\u001b[0m     \u001b[38;5;66;03m# thereby passing the test made in the lines following the scope\u001b[39;00m\n\u001b[0;32m    932\u001b[0m     \u001b[38;5;66;03m# of warnings context manager.\u001b[39;00m\n\u001b[0;32m    933\u001b[0m     \u001b[38;5;28;01mwith\u001b[39;00m warnings\u001b[38;5;241m.\u001b[39mcatch_warnings():\n",
      "File \u001b[1;32m~\\AppData\\Local\\Packages\\PythonSoftwareFoundation.Python.3.10_qbz5n2kfra8p0\\LocalCache\\local-packages\\Python310\\site-packages\\sklearn\\utils\\validation.py:593\u001b[0m, in \u001b[0;36m_ensure_sparse_format\u001b[1;34m(sparse_container, accept_sparse, dtype, copy, force_all_finite, accept_large_sparse, estimator_name, input_name)\u001b[0m\n\u001b[0;32m    588\u001b[0m         warnings\u001b[38;5;241m.\u001b[39mwarn(\n\u001b[0;32m    589\u001b[0m             \u001b[38;5;124mf\u001b[39m\u001b[38;5;124m\"\u001b[39m\u001b[38;5;124mCan\u001b[39m\u001b[38;5;124m'\u001b[39m\u001b[38;5;124mt check \u001b[39m\u001b[38;5;132;01m{\u001b[39;00msparse_container\u001b[38;5;241m.\u001b[39mformat\u001b[38;5;132;01m}\u001b[39;00m\u001b[38;5;124m sparse matrix for nan or inf.\u001b[39m\u001b[38;5;124m\"\u001b[39m,\n\u001b[0;32m    590\u001b[0m             stacklevel\u001b[38;5;241m=\u001b[39m\u001b[38;5;241m2\u001b[39m,\n\u001b[0;32m    591\u001b[0m         )\n\u001b[0;32m    592\u001b[0m     \u001b[38;5;28;01melse\u001b[39;00m:\n\u001b[1;32m--> 593\u001b[0m         \u001b[43m_assert_all_finite\u001b[49m\u001b[43m(\u001b[49m\n\u001b[0;32m    594\u001b[0m \u001b[43m            \u001b[49m\u001b[43msparse_container\u001b[49m\u001b[38;5;241;43m.\u001b[39;49m\u001b[43mdata\u001b[49m\u001b[43m,\u001b[49m\n\u001b[0;32m    595\u001b[0m \u001b[43m            \u001b[49m\u001b[43mallow_nan\u001b[49m\u001b[38;5;241;43m=\u001b[39;49m\u001b[43mforce_all_finite\u001b[49m\u001b[43m \u001b[49m\u001b[38;5;241;43m==\u001b[39;49m\u001b[43m \u001b[49m\u001b[38;5;124;43m\"\u001b[39;49m\u001b[38;5;124;43mallow-nan\u001b[39;49m\u001b[38;5;124;43m\"\u001b[39;49m\u001b[43m,\u001b[49m\n\u001b[0;32m    596\u001b[0m \u001b[43m            \u001b[49m\u001b[43mestimator_name\u001b[49m\u001b[38;5;241;43m=\u001b[39;49m\u001b[43mestimator_name\u001b[49m\u001b[43m,\u001b[49m\n\u001b[0;32m    597\u001b[0m \u001b[43m            \u001b[49m\u001b[43minput_name\u001b[49m\u001b[38;5;241;43m=\u001b[39;49m\u001b[43minput_name\u001b[49m\u001b[43m,\u001b[49m\n\u001b[0;32m    598\u001b[0m \u001b[43m        \u001b[49m\u001b[43m)\u001b[49m\n\u001b[0;32m    600\u001b[0m \u001b[38;5;66;03m# TODO: Remove when the minimum version of SciPy supported is 1.12\u001b[39;00m\n\u001b[0;32m    601\u001b[0m \u001b[38;5;66;03m# With SciPy sparse arrays, conversion from DIA format to COO, CSR, or BSR\u001b[39;00m\n\u001b[0;32m    602\u001b[0m \u001b[38;5;66;03m# triggers the use of `np.int64` indices even if the data is such that it could\u001b[39;00m\n\u001b[1;32m   (...)\u001b[0m\n\u001b[0;32m    605\u001b[0m \u001b[38;5;66;03m# algorithms support large indices, the following code downcasts to `np.int32`\u001b[39;00m\n\u001b[0;32m    606\u001b[0m \u001b[38;5;66;03m# indices when it's safe to do so.\u001b[39;00m\n\u001b[0;32m    607\u001b[0m \u001b[38;5;28;01mif\u001b[39;00m changed_format:\n\u001b[0;32m    608\u001b[0m     \u001b[38;5;66;03m# accept_sparse is specified to a specific format and a conversion occurred\u001b[39;00m\n",
      "File \u001b[1;32m~\\AppData\\Local\\Packages\\PythonSoftwareFoundation.Python.3.10_qbz5n2kfra8p0\\LocalCache\\local-packages\\Python310\\site-packages\\sklearn\\utils\\validation.py:126\u001b[0m, in \u001b[0;36m_assert_all_finite\u001b[1;34m(X, allow_nan, msg_dtype, estimator_name, input_name)\u001b[0m\n\u001b[0;32m    123\u001b[0m \u001b[38;5;28;01mif\u001b[39;00m first_pass_isfinite:\n\u001b[0;32m    124\u001b[0m     \u001b[38;5;28;01mreturn\u001b[39;00m\n\u001b[1;32m--> 126\u001b[0m \u001b[43m_assert_all_finite_element_wise\u001b[49m\u001b[43m(\u001b[49m\n\u001b[0;32m    127\u001b[0m \u001b[43m    \u001b[49m\u001b[43mX\u001b[49m\u001b[43m,\u001b[49m\n\u001b[0;32m    128\u001b[0m \u001b[43m    \u001b[49m\u001b[43mxp\u001b[49m\u001b[38;5;241;43m=\u001b[39;49m\u001b[43mxp\u001b[49m\u001b[43m,\u001b[49m\n\u001b[0;32m    129\u001b[0m \u001b[43m    \u001b[49m\u001b[43mallow_nan\u001b[49m\u001b[38;5;241;43m=\u001b[39;49m\u001b[43mallow_nan\u001b[49m\u001b[43m,\u001b[49m\n\u001b[0;32m    130\u001b[0m \u001b[43m    \u001b[49m\u001b[43mmsg_dtype\u001b[49m\u001b[38;5;241;43m=\u001b[39;49m\u001b[43mmsg_dtype\u001b[49m\u001b[43m,\u001b[49m\n\u001b[0;32m    131\u001b[0m \u001b[43m    \u001b[49m\u001b[43mestimator_name\u001b[49m\u001b[38;5;241;43m=\u001b[39;49m\u001b[43mestimator_name\u001b[49m\u001b[43m,\u001b[49m\n\u001b[0;32m    132\u001b[0m \u001b[43m    \u001b[49m\u001b[43minput_name\u001b[49m\u001b[38;5;241;43m=\u001b[39;49m\u001b[43minput_name\u001b[49m\u001b[43m,\u001b[49m\n\u001b[0;32m    133\u001b[0m \u001b[43m\u001b[49m\u001b[43m)\u001b[49m\n",
      "File \u001b[1;32m~\\AppData\\Local\\Packages\\PythonSoftwareFoundation.Python.3.10_qbz5n2kfra8p0\\LocalCache\\local-packages\\Python310\\site-packages\\sklearn\\utils\\validation.py:175\u001b[0m, in \u001b[0;36m_assert_all_finite_element_wise\u001b[1;34m(X, xp, allow_nan, msg_dtype, estimator_name, input_name)\u001b[0m\n\u001b[0;32m    158\u001b[0m \u001b[38;5;28;01mif\u001b[39;00m estimator_name \u001b[38;5;129;01mand\u001b[39;00m input_name \u001b[38;5;241m==\u001b[39m \u001b[38;5;124m\"\u001b[39m\u001b[38;5;124mX\u001b[39m\u001b[38;5;124m\"\u001b[39m \u001b[38;5;129;01mand\u001b[39;00m has_nan_error:\n\u001b[0;32m    159\u001b[0m     \u001b[38;5;66;03m# Improve the error message on how to handle missing values in\u001b[39;00m\n\u001b[0;32m    160\u001b[0m     \u001b[38;5;66;03m# scikit-learn.\u001b[39;00m\n\u001b[0;32m    161\u001b[0m     msg_err \u001b[38;5;241m+\u001b[39m\u001b[38;5;241m=\u001b[39m (\n\u001b[0;32m    162\u001b[0m         \u001b[38;5;124mf\u001b[39m\u001b[38;5;124m\"\u001b[39m\u001b[38;5;130;01m\\n\u001b[39;00m\u001b[38;5;132;01m{\u001b[39;00mestimator_name\u001b[38;5;132;01m}\u001b[39;00m\u001b[38;5;124m does not accept missing values\u001b[39m\u001b[38;5;124m\"\u001b[39m\n\u001b[0;32m    163\u001b[0m         \u001b[38;5;124m\"\u001b[39m\u001b[38;5;124m encoded as NaN natively. For supervised learning, you might want\u001b[39m\u001b[38;5;124m\"\u001b[39m\n\u001b[1;32m   (...)\u001b[0m\n\u001b[0;32m    173\u001b[0m         \u001b[38;5;124m\"\u001b[39m\u001b[38;5;124m#estimators-that-handle-nan-values\u001b[39m\u001b[38;5;124m\"\u001b[39m\n\u001b[0;32m    174\u001b[0m     )\n\u001b[1;32m--> 175\u001b[0m \u001b[38;5;28;01mraise\u001b[39;00m \u001b[38;5;167;01mValueError\u001b[39;00m(msg_err)\n",
      "\u001b[1;31mValueError\u001b[0m: Input contains NaN."
     ]
    }
   ],
   "source": [
    "\n",
    "# Convertir a matriz dispersa (sparse matrix)\n",
    "piv_sparse = csr_matrix(user_item_matrix.values)\n",
    "\n",
    "piv_norm.fillna(0, inplace=True)\n",
    "# Calcular la similitud entre juegos (item_similarity)\n",
    "item_similarity = cosine_similarity(piv_sparse)\n",
    "\n",
    "# Calcular la similitud entre usuarios (user_similarity)\n",
    "user_similarity = cosine_similarity(piv_sparse.T)\n",
    "\n",
    "# Ahora tienes las matrices de similitud listas para su uso en tu modelo de recomendación"
   ]
  },
  {
   "cell_type": "code",
   "execution_count": null,
   "metadata": {},
   "outputs": [],
   "source": []
  }
 ],
 "metadata": {
  "kernelspec": {
   "display_name": "Python 3",
   "language": "python",
   "name": "python3"
  },
  "language_info": {
   "codemirror_mode": {
    "name": "ipython",
    "version": 3
   },
   "file_extension": ".py",
   "mimetype": "text/x-python",
   "name": "python",
   "nbconvert_exporter": "python",
   "pygments_lexer": "ipython3",
   "version": "3.10.11"
  }
 },
 "nbformat": 4,
 "nbformat_minor": 2
}
