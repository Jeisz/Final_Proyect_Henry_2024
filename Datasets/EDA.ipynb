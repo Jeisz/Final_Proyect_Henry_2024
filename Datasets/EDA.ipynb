{
 "cells": [
  {
   "cell_type": "code",
   "execution_count": 1,
   "metadata": {},
   "outputs": [],
   "source": [
    "import pandas as pd\n",
    "import pyarrow as pa\n",
    "import pyarrow.parquet as pq\n",
    "import numpy as np\n",
    "%load_ext autoreload\n",
    "%autoreload 2\n",
    "import utils\n",
    "from nltk.sentiment import SentimentIntensityAnalyzer\n",
    "from sklearn.feature_extraction.text import CountVectorizer\n",
    "import pandas as pd\n",
    "import warnings\n",
    "warnings.filterwarnings(\"ignore\")"
   ]
  },
  {
   "cell_type": "code",
   "execution_count": 2,
   "metadata": {},
   "outputs": [],
   "source": [
    "df_reviews = pd.read_csv('steam_reviews_cleaned.csv', encoding='utf-8')\n",
    "df_games = pd.read_csv('steam_games_cleaned.csv', encoding='utf-8')\n",
    "df_items = pd.read_csv('data_items_desanidado_cleaned.csv ', encoding='utf-8')"
   ]
  },
  {
   "cell_type": "code",
   "execution_count": 3,
   "metadata": {},
   "outputs": [
    {
     "name": "stdout",
     "output_type": "stream",
     "text": [
      "<class 'pandas.core.frame.DataFrame'>\n",
      "RangeIndex: 20357 entries, 0 to 20356\n",
      "Data columns (total 10 columns):\n",
      " #   Column       Non-Null Count  Dtype \n",
      "---  ------       --------------  ----- \n",
      " 0   user_id      20357 non-null  object\n",
      " 1   user_url     20357 non-null  object\n",
      " 2   index        20357 non-null  int64 \n",
      " 3   funny        2744 non-null   object\n",
      " 4   posted       20357 non-null  object\n",
      " 5   last_edited  2383 non-null   object\n",
      " 6   item_id      20357 non-null  int64 \n",
      " 7   helpful      20357 non-null  object\n",
      " 8   recommend    20357 non-null  bool  \n",
      " 9   review       20347 non-null  object\n",
      "dtypes: bool(1), int64(2), object(7)\n",
      "memory usage: 1.4+ MB\n"
     ]
    }
   ],
   "source": [
    "df_reviews.info()"
   ]
  },
  {
   "cell_type": "code",
   "execution_count": 4,
   "metadata": {},
   "outputs": [
    {
     "name": "stdout",
     "output_type": "stream",
     "text": [
      "<class 'pandas.core.frame.DataFrame'>\n",
      "RangeIndex: 32133 entries, 0 to 32132\n",
      "Data columns (total 8 columns):\n",
      " #   Column     Non-Null Count  Dtype  \n",
      "---  ------     --------------  -----  \n",
      " 0   genres     28851 non-null  object \n",
      " 1   name       32132 non-null  object \n",
      " 2   tags       31971 non-null  object \n",
      " 3   specs      31464 non-null  object \n",
      " 4   price      28846 non-null  float64\n",
      " 5   item_id    32133 non-null  float64\n",
      " 6   developer  28900 non-null  object \n",
      " 7   year       32133 non-null  int64  \n",
      "dtypes: float64(2), int64(1), object(5)\n",
      "memory usage: 2.0+ MB\n"
     ]
    }
   ],
   "source": [
    "df_games.info()"
   ]
  },
  {
   "cell_type": "code",
   "execution_count": 5,
   "metadata": {},
   "outputs": [
    {
     "name": "stdout",
     "output_type": "stream",
     "text": [
      "<class 'pandas.core.frame.DataFrame'>\n",
      "RangeIndex: 5094105 entries, 0 to 5094104\n",
      "Data columns (total 8 columns):\n",
      " #   Column            Dtype \n",
      "---  ------            ----- \n",
      " 0   item_id           int64 \n",
      " 1   item_name         object\n",
      " 2   playtime_forever  int64 \n",
      " 3   playtime_2weeks   int64 \n",
      " 4   steam_id          int64 \n",
      " 5   items_count       int64 \n",
      " 6   user_id           object\n",
      " 7   user_url          object\n",
      "dtypes: int64(5), object(3)\n",
      "memory usage: 310.9+ MB\n"
     ]
    }
   ],
   "source": [
    "df_items.info()"
   ]
  },
  {
   "cell_type": "code",
   "execution_count": null,
   "metadata": {},
   "outputs": [],
   "source": []
  }
 ],
 "metadata": {
  "kernelspec": {
   "display_name": "Python 3",
   "language": "python",
   "name": "python3"
  },
  "language_info": {
   "codemirror_mode": {
    "name": "ipython",
    "version": 3
   },
   "file_extension": ".py",
   "mimetype": "text/x-python",
   "name": "python",
   "nbconvert_exporter": "python",
   "pygments_lexer": "ipython3",
   "version": "3.11.7"
  }
 },
 "nbformat": 4,
 "nbformat_minor": 2
}
